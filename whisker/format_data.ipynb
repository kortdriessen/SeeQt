{
 "cells": [
  {
   "cell_type": "code",
   "execution_count": 31,
   "id": "97db6b15",
   "metadata": {},
   "outputs": [],
   "source": [
    "import pandas as pd\n",
    "import numpy as np"
   ]
  },
  {
   "cell_type": "code",
   "execution_count": 2,
   "id": "d357dca7",
   "metadata": {},
   "outputs": [],
   "source": [
    "s = 'SESSIONx'"
   ]
  },
  {
   "cell_type": "code",
   "execution_count": 5,
   "id": "0b9b0aed",
   "metadata": {},
   "outputs": [],
   "source": [
    "ev = pd.read_csv(r\".\\data\\SESSIONx_EVENTS.csv\")"
   ]
  },
  {
   "cell_type": "code",
   "execution_count": 7,
   "id": "2fd318d7",
   "metadata": {},
   "outputs": [],
   "source": [
    "ev.rename(columns={'Pico_gTime_s': 'time'}, inplace=True)"
   ]
  },
  {
   "cell_type": "code",
   "execution_count": 42,
   "id": "9dbeb04e",
   "metadata": {},
   "outputs": [],
   "source": [
    "array_start = 0\n",
    "array_end = round(ev['time'].values.max())\n",
    "fs = 1000\n",
    "\n",
    "master_times_array = np.arange(array_start, array_end, 1/fs)"
   ]
  },
  {
   "cell_type": "code",
   "execution_count": null,
   "id": "56e74051",
   "metadata": {},
   "outputs": [],
   "source": [
    "lick_times = ev.loc[ev.Lick_Detected == 'Lick']['time'].values\n",
    "valve_opens = ev.loc[ev.Valve_timing == 'Open']['time'].values\n",
    "valve_closes = ev.loc[ev.Valve_timing == 'Close']['time'].values"
   ]
  },
  {
   "cell_type": "code",
   "execution_count": null,
   "id": "2da71e5d",
   "metadata": {},
   "outputs": [],
   "source": [
    "motor_indices = ev['Motor_location'].dropna().index.values\n",
    "motor_events = ev.iloc[motor_indices]['Motor_location'].values\n",
    "motor_event_times = ev.iloc[motor_indices]['time'].values\n",
    "\n",
    "motor_values_array = np.zeros_like(master_times_array)\n",
    "evt_times = np.asarray(motor_event_times, dtype=float)\n",
    "evt_names = np.asarray(motor_events).astype(str)\n",
    "\n",
    "# Ensure events are processed in chronological order\n",
    "order = np.argsort(evt_times)\n",
    "evt_times = evt_times[order]\n",
    "evt_names = np.char.lower(evt_names[order])\n",
    "\n",
    "num_events = len(evt_names)\n",
    "for i in range(num_events):\n",
    "    name = evt_names[i].strip()\n",
    "    t0 = float(evt_times[i])\n",
    "    # Use end of array for the final interval\n",
    "    t1 = float(evt_times[i + 1]) if i + 1 < num_events else (master_times_array[-1] + 1.0 / fs)\n",
    "\n",
    "    idx0 = int(np.searchsorted(master_times_array, t0, side='left'))\n",
    "    idx1 = int(np.searchsorted(master_times_array, t1, side='left'))\n",
    "    if idx1 <= idx0:\n",
    "        continue\n",
    "\n",
    "    seg_times = master_times_array[idx0:idx1]\n",
    "    if name == 'forward':\n",
    "        denom = max(t1 - t0, 1e-12)\n",
    "        motor_values_array[idx0:idx1] = np.clip((seg_times - t0) / denom, 0.0, 1.0)\n",
    "    elif name == 'backward':\n",
    "        denom = max(t1 - t0, 1e-12)\n",
    "        motor_values_array[idx0:idx1] = 1.0 - np.clip((seg_times - t0) / denom, 0.0, 1.0)\n",
    "    elif name == 'presenting':\n",
    "        motor_values_array[idx0:idx1] = 1.0\n",
    "    elif name == 'idle':\n",
    "        motor_values_array[idx0:idx1] = 0.0\n",
    "    # unknown labels are left as-in (zeros)"
   ]
  },
  {
   "cell_type": "code",
   "execution_count": 25,
   "id": "700adbd8",
   "metadata": {},
   "outputs": [],
   "source": [
    "state_indices = ev['State'].dropna().index.values\n",
    "state_events = ev.iloc[state_indices]['State'].values\n",
    "state_event_times = ev.iloc[state_indices]['time'].values"
   ]
  },
  {
   "cell_type": "code",
   "execution_count": 46,
   "id": "ccb38264",
   "metadata": {},
   "outputs": [],
   "source": [
    "start_s = []\n",
    "end_s = []\n",
    "labels = []\n",
    "for i,state in enumerate(state_events):\n",
    "    start_s.append(state_event_times[i])\n",
    "    labels.append(state)\n",
    "    if i < len(state_events) - 1:\n",
    "        end_s.append(state_event_times[i+1])\n",
    "    else:\n",
    "        end_s.append(master_times_array[-1])"
   ]
  },
  {
   "cell_type": "code",
   "execution_count": 48,
   "id": "01633fd0",
   "metadata": {},
   "outputs": [],
   "source": [
    "states_df = pd.DataFrame({'start_s': start_s, 'end_s': end_s, 'label': labels})"
   ]
  },
  {
   "cell_type": "code",
   "execution_count": 52,
   "id": "c01189c6",
   "metadata": {},
   "outputs": [],
   "source": [
    "open_indices = np.searchsorted(master_times_array, valve_opens)\n",
    "close_indices = np.searchsorted(master_times_array, valve_closes)"
   ]
  },
  {
   "cell_type": "code",
   "execution_count": 53,
   "id": "f939fa2f",
   "metadata": {},
   "outputs": [],
   "source": [
    "valve_values = np.zeros_like(master_times_array)\n",
    "for o, c in zip(open_indices, close_indices):\n",
    "    valve_values[o:c] = 1.0"
   ]
  },
  {
   "cell_type": "code",
   "execution_count": 60,
   "id": "a679a0d4",
   "metadata": {},
   "outputs": [],
   "source": [
    "lick_times\n",
    "lick_ends = lick_times + 0.005"
   ]
  },
  {
   "cell_type": "code",
   "execution_count": 61,
   "id": "40329765",
   "metadata": {},
   "outputs": [],
   "source": [
    "lick_values = np.zeros_like(master_times_array)\n",
    "lick_indices = np.searchsorted(master_times_array, lick_times)\n",
    "lick_ends_indices = np.searchsorted(master_times_array, lick_ends)\n",
    "for lick, lick_end in zip(lick_indices, lick_ends_indices):\n",
    "    lick_values[lick:lick_end] = 1.0"
   ]
  },
  {
   "cell_type": "code",
   "execution_count": 62,
   "id": "69d6575d",
   "metadata": {},
   "outputs": [
    {
     "data": {
      "text/plain": [
       "[<matplotlib.lines.Line2D at 0x1b6eb1d75c0>]"
      ]
     },
     "execution_count": 62,
     "metadata": {},
     "output_type": "execute_result"
    },
    {
     "data": {
      "image/png": "[encoded data removed]",
      "text/plain": [
       "<Figure size 640x480 with 1 Axes>"
      ]
     },
     "metadata": {},
     "output_type": "display_data"
    }
   ],
   "source": [
    "plt.plot(master_times_array, lick_values)"
   ]
  },
  {
   "cell_type": "code",
   "execution_count": 64,
   "id": "63829619",
   "metadata": {},
   "outputs": [],
   "source": [
    "np.save('motor_y.npy', motor_values_array)\n",
    "np.save('valve_y.npy', valve_values)\n",
    "np.save('lick_y.npy', lick_values)\n",
    "\n",
    "np.save('motor_t.npy', master_times_array)\n",
    "np.save('valve_t.npy', master_times_array)\n",
    "np.save('lick_t.npy', master_times_array)"
   ]
  },
  {
   "cell_type": "code",
   "execution_count": 65,
   "id": "dd587816",
   "metadata": {},
   "outputs": [],
   "source": [
    "states_df.to_csv('states.csv', index=False)"
   ]
  },
  {
   "cell_type": "code",
   "execution_count": 67,
   "id": "7049aab4",
   "metadata": {},
   "outputs": [],
   "source": [
    "frames = pd.read_csv(r\".\\data\\SESSIONx_FRAMES.csv\")"
   ]
  },
  {
   "cell_type": "code",
   "execution_count": 71,
   "id": "0b859410",
   "metadata": {},
   "outputs": [],
   "source": [
    "frame_times = frames['Pico_gTime_s'].values"
   ]
  },
  {
   "cell_type": "code",
   "execution_count": 72,
   "id": "b8d3e128",
   "metadata": {},
   "outputs": [],
   "source": [
    "np.save('data\\\\frame_times.npy', frame_times)"
   ]
  }
 ],
 "metadata": {
  "kernelspec": {
   "display_name": "general",
   "language": "python",
   "name": "python3"
  },
  "language_info": {
   "codemirror_mode": {
    "name": "ipython",
    "version": 3
   },
   "file_extension": ".py",
   "mimetype": "text/x-python",
   "name": "python",
   "nbconvert_exporter": "python",
   "pygments_lexer": "ipython3",
   "version": "3.12.1"
  }
 },
 "nbformat": 4,
 "nbformat_minor": 5
}
